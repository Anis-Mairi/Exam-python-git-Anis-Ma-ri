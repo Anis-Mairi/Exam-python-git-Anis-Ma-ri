{
 "cells": [
  {
   "cell_type": "markdown",
   "id": "84e7df2d",
   "metadata": {},
   "source": [
    "Question 1 : création de fonctions mathématiques simple en Python"
   ]
  },
  {
   "cell_type": "code",
   "execution_count": null,
   "id": "f5c4b31e",
   "metadata": {},
   "outputs": [],
   "source": [
    "# -- a) fonction polynomiale -- \n",
    "\n",
    "\n",
    "def f(a):\n",
    "        return a**3 - 1.5*(a**2)- 6*a + 5\n",
    "f(5)"
   ]
  },
  {
   "cell_type": "code",
   "execution_count": null,
   "id": "0c4b928f",
   "metadata": {},
   "outputs": [],
   "source": [
    "# -- b) fonction factorielle \n",
    "\n",
    "\n",
    "def h(a):\n",
    "    end = 1\n",
    "    for i in range (1, a+1):\n",
    "        end = end * i\n",
    "    print(end)\n",
    "h(5)"
   ]
  },
  {
   "cell_type": "code",
   "execution_count": null,
   "id": "621395c8",
   "metadata": {},
   "outputs": [],
   "source": [
    "# -- c) la suite de Fibonnaci\n",
    "\n",
    "def fibo(x):\n",
    "    a = 0\n",
    "    b = 1\n",
    "    c = 1\n",
    "    while c < x+1:\n",
    "        print(a, end = ', ')\n",
    "        a, b, c=b, a+b, c+1\n",
    "fibo(6)"
   ]
  },
  {
   "cell_type": "markdown",
   "id": "90102165",
   "metadata": {},
   "source": [
    "Question 2 : création de fonction comportant des modules de gestions d'exceptions"
   ]
  },
  {
   "cell_type": "code",
   "execution_count": null,
   "id": "f01b5d6b",
   "metadata": {},
   "outputs": [],
   "source": [
    "# gestion des erreurs"
   ]
  },
  {
   "cell_type": "code",
   "execution_count": null,
   "id": "37dc8892",
   "metadata": {},
   "outputs": [],
   "source": [
    "condition = False\n",
    "def f(a):\n",
    "    assert 0.0000001 < a < 99999999 and a > 0\n",
    "    return ( a**3 - 1.5*(a**2)- 6*a + 5)\n",
    "while not condition:\n",
    "    try:\n",
    "        var = float(input('x: ') )\n",
    "        print(\"f(x) = \", f(var))\n",
    "        ok = True\n",
    "    except AssertionError:\n",
    "        print(\"l'input doit etre strictement positif, ne doit pas etre 'Un grand nombre' ni 'Un petit nombre'\")\n",
    "    except ValueError:\n",
    "        print(\"Erreur : il faut saisir un nombre entier\")"
   ]
  },
  {
   "cell_type": "code",
   "execution_count": null,
   "id": "35b91231",
   "metadata": {},
   "outputs": [],
   "source": []
  },
  {
   "cell_type": "code",
   "execution_count": null,
   "id": "5da97355",
   "metadata": {},
   "outputs": [],
   "source": []
  },
  {
   "cell_type": "code",
   "execution_count": null,
   "id": "e50c8428",
   "metadata": {},
   "outputs": [],
   "source": []
  },
  {
   "cell_type": "code",
   "execution_count": null,
   "id": "d7e6997a",
   "metadata": {},
   "outputs": [],
   "source": []
  },
  {
   "cell_type": "code",
   "execution_count": null,
   "id": "3a3b9e8f",
   "metadata": {},
   "outputs": [],
   "source": []
  },
  {
   "cell_type": "code",
   "execution_count": null,
   "id": "f3f20ba4",
   "metadata": {},
   "outputs": [],
   "source": []
  },
  {
   "cell_type": "code",
   "execution_count": null,
   "id": "72337ba1",
   "metadata": {},
   "outputs": [],
   "source": []
  },
  {
   "cell_type": "code",
   "execution_count": null,
   "id": "c37b75dd",
   "metadata": {},
   "outputs": [],
   "source": []
  },
  {
   "cell_type": "code",
   "execution_count": null,
   "id": "aacb9602",
   "metadata": {
    "scrolled": false
   },
   "outputs": [],
   "source": []
  }
 ],
 "metadata": {
  "kernelspec": {
   "display_name": "Python 3",
   "language": "python",
   "name": "python3"
  },
  "language_info": {
   "codemirror_mode": {
    "name": "ipython",
    "version": 3
   },
   "file_extension": ".py",
   "mimetype": "text/x-python",
   "name": "python",
   "nbconvert_exporter": "python",
   "pygments_lexer": "ipython3",
   "version": "3.8.8"
  }
 },
 "nbformat": 4,
 "nbformat_minor": 5
}
